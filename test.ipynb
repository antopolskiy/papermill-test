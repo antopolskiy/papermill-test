{
 "cells": [
  {
   "cell_type": "code",
   "execution_count": 1,
   "id": "d6aff76b-5735-4471-af4d-732861c480c5",
   "metadata": {
    "execution": {
     "iopub.execute_input": "2022-11-10T15:39:41.494722Z",
     "iopub.status.busy": "2022-11-10T15:39:41.494273Z",
     "iopub.status.idle": "2022-11-10T15:39:41.506759Z",
     "shell.execute_reply": "2022-11-10T15:39:41.506144Z"
    },
    "papermill": {
     "duration": 0.022229,
     "end_time": "2022-11-10T15:39:41.509260",
     "exception": false,
     "start_time": "2022-11-10T15:39:41.487031",
     "status": "completed"
    },
    "tags": [
     "parameters"
    ]
   },
   "outputs": [],
   "source": [
    "# only this cell contains parameters (tagged \"parameters\" through Jupyter interface)\n",
    "param1 = None\n",
    "param2 = None"
   ]
  },
  {
   "cell_type": "markdown",
   "id": "e18aef77-123a-46b0-b429-38bf9b4d3002",
   "metadata": {
    "papermill": {
     "duration": 0.001585,
     "end_time": "2022-11-10T15:39:41.522997",
     "exception": false,
     "start_time": "2022-11-10T15:39:41.521412",
     "status": "completed"
    },
    "tags": []
   },
   "source": [
    "Add ``#papermill_description=...` to display a string during the execution of the cell to track the progress."
   ]
  },
  {
   "cell_type": "code",
   "execution_count": 3,
   "id": "250f3a12-5324-437f-93ff-2107484487d2",
   "metadata": {
    "execution": {
     "iopub.execute_input": "2022-11-10T15:39:41.527325Z",
     "iopub.status.busy": "2022-11-10T15:39:41.527102Z",
     "iopub.status.idle": "2022-11-10T15:39:41.529922Z",
     "shell.execute_reply": "2022-11-10T15:39:41.529545Z"
    },
    "papermill": {
     "duration": 0.008091,
     "end_time": "2022-11-10T15:39:41.532579",
     "exception": false,
     "start_time": "2022-11-10T15:39:41.524488",
     "status": "completed"
    },
    "tags": []
   },
   "outputs": [
    {
     "name": "stdout",
     "output_type": "stream",
     "text": [
      "100 2\n"
     ]
    }
   ],
   "source": [
    "#papermill_description=TQDM_DESCRIPTION\n",
    "print(param1, param2)"
   ]
  }
 ],
 "metadata": {
  "kernelspec": {
   "display_name": "Python 3 (ipykernel)",
   "language": "python",
   "name": "python3"
  },
  "language_info": {
   "codemirror_mode": {
    "name": "ipython",
    "version": 3
   },
   "file_extension": ".py",
   "mimetype": "text/x-python",
   "name": "python",
   "nbconvert_exporter": "python",
   "pygments_lexer": "ipython3",
   "version": "3.8.5"
  },
  "papermill": {
   "default_parameters": {},
   "duration": 0.884829,
   "end_time": "2022-11-10T15:39:41.651146",
   "environment_variables": {},
   "exception": null,
   "input_path": "Untitled.ipynb",
   "output_path": "Untitled.ipynb",
   "parameters": {
    "param1": 100
   },
   "start_time": "2022-11-10T15:39:40.766317",
   "version": "2.4.0"
  }
 },
 "nbformat": 4,
 "nbformat_minor": 5
}
